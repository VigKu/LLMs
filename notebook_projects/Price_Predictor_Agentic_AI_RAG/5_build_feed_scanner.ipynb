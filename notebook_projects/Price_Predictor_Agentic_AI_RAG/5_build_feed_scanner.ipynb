{
 "cells": [
  {
   "cell_type": "markdown",
   "id": "0df0d850-49eb-4a0b-a27a-146969db710d",
   "metadata": {},
   "source": [
    "# The Price is Right\n",
    "\n",
    "Today we'll build another piece of the puzzle: a ScanningAgent that looks for promising deals by subscribing to RSS feeds."
   ]
  },
  {
   "cell_type": "code",
   "execution_count": 5,
   "id": "d3763a79-8a5a-4300-8de4-93e85475af10",
   "metadata": {},
   "outputs": [],
   "source": [
    "# imports\n",
    "\n",
    "import os\n",
    "import json\n",
    "from dotenv import load_dotenv\n",
    "from openai import OpenAI\n",
    "from agents.deals import ScrapedDeal, DealSelection"
   ]
  },
  {
   "cell_type": "code",
   "execution_count": 3,
   "id": "c6469e32-16c3-4443-9475-ade710ef6933",
   "metadata": {},
   "outputs": [],
   "source": [
    "# Initialize and constants\n",
    "\n",
    "load_dotenv(override=True)\n",
    "os.environ['OPENAI_API_KEY'] = os.getenv('OPENAI_API_KEY', 'your-key-if-not-using-env')\n",
    "MODEL = 'gpt-4o-mini'\n",
    "openai = OpenAI()"
   ]
  },
  {
   "cell_type": "code",
   "execution_count": 6,
   "id": "afece9db-8cd4-46be-ac57-0b472e84da7d",
   "metadata": {},
   "outputs": [
    {
     "name": "stderr",
     "output_type": "stream",
     "text": [
      "100%|██████████| 5/5 [07:21<00:00, 88.34s/it]\n"
     ]
    }
   ],
   "source": [
    "deals = ScrapedDeal.fetch(show_progress=True)"
   ]
  },
  {
   "cell_type": "code",
   "execution_count": 7,
   "id": "8cd15c4d-eb44-4601-bf0c-f945c1d8e3ec",
   "metadata": {},
   "outputs": [
    {
     "data": {
      "text/plain": [
       "50"
      ]
     },
     "execution_count": 7,
     "metadata": {},
     "output_type": "execute_result"
    }
   ],
   "source": [
    "len(deals)"
   ]
  },
  {
   "cell_type": "code",
   "execution_count": 8,
   "id": "4259f30a-6455-49ed-8863-2f9ddd4776cb",
   "metadata": {},
   "outputs": [
    {
     "data": {
      "text/plain": [
       "\"Title: 9-Compartment Portable Wardrobe for $58 + free shipping\\nDetails: You'd pay around $95 for very similar models today at Amazon. You can get this price in Grey (pictured) or Blue. Shipping from a local US warehouse is also free. Buy Now at AliExpress\\nFeatures: \\nURL: https://www.dealnews.com/9-Compartment-Portable-Wardrobe-for-58-free-shipping/21777229.html?iref=rss-c196\""
      ]
     },
     "execution_count": 8,
     "metadata": {},
     "output_type": "execute_result"
    }
   ],
   "source": [
    "deals[44].describe()"
   ]
  },
  {
   "cell_type": "code",
   "execution_count": 9,
   "id": "8100e5ac-38f5-40c1-a712-08ae12c85038",
   "metadata": {},
   "outputs": [],
   "source": [
    "system_prompt = \"\"\"You identify and summarize the 5 most detailed deals from a list, by selecting deals that have the most detailed, high quality description and the most clear price.\n",
    "Respond strictly in JSON with no explanation, using this format. You should provide the price as a number derived from the description. If the price of a deal isn't clear, do not include that deal in your response.\n",
    "Most important is that you respond with the 5 deals that have the most detailed product description with price. It's not important to mention the terms of the deal; most important is a thorough description of the product.\n",
    "Be careful with products that are described as \"$XXX off\" or \"reduced by $XXX\" - this isn't the actual price of the product. Only respond with products when you are highly confident about the price. \n",
    "\n",
    "{\"deals\": [\n",
    "    {\n",
    "        \"product_description\": \"Your clearly expressed summary of the product in 4-5 sentences. Details of the item are much more important than why it's a good deal. Avoid mentioning discounts and coupons; focus on the item itself. There should be a paragpraph of text for each item you choose.\",\n",
    "        \"price\": 99.99,\n",
    "        \"url\": \"the url as provided\"\n",
    "    },\n",
    "    ...\n",
    "]}\"\"\""
   ]
  },
  {
   "cell_type": "code",
   "execution_count": 10,
   "id": "f4bca170-af71-40c9-9597-1d72980c74d8",
   "metadata": {},
   "outputs": [],
   "source": [
    "user_prompt = \"\"\"Respond with the most promising 5 deals from this list, selecting those which have the most detailed, high quality product description and a clear price.\n",
    "Respond strictly in JSON, and only JSON. You should rephrase the description to be a summary of the product itself, not the terms of the deal.\n",
    "Remember to respond with a paragraph of text in the product_description field for each of the 5 items that you select.\n",
    "Be careful with products that are described as \"$XXX off\" or \"reduced by $XXX\" - this isn't the actual price of the product. Only respond with products when you are highly confident about the price. \n",
    "\n",
    "Deals:\n",
    "\n",
    "\"\"\"\n",
    "user_prompt += '\\n\\n'.join([deal.describe() for deal in deals])"
   ]
  },
  {
   "cell_type": "code",
   "execution_count": 11,
   "id": "020947a6-561b-417b-98a0-a085e31d2ce3",
   "metadata": {},
   "outputs": [
    {
     "name": "stdout",
     "output_type": "stream",
     "text": [
      "Respond with the most promising 5 deals from this list, selecting those which have the most detailed, high quality product description and a clear price.\n",
      "Respond strictly in JSON, and only JSON. You should rephrase the description to be a summary of the product itself, not the terms of the deal.\n",
      "Remember to respond with a paragraph of text in the product_description field for each of the 5 items that you select.\n",
      "Be careful with products that are described as \"$XXX off\" or \"reduced by $XXX\" - this isn't the actual price of the product. Only respond with products when you are highly confident about the price. \n",
      "\n",
      "Deals:\n",
      "\n",
      "Title: Refurb Unlocked Apple iPhone 16 Pro Max 256GB Smartphone for $890 + free shipping\n",
      "Details: You'd pay over $900 for most refurbs at Amazon. This one is in \"Excellent\" condition and comes with a 1-year Allstate warranty. Buy Now at eBay\n",
      "Features: \n",
      "URL: https://www.dealnews.com/products/Apple/Unlocked-Apple-iPhone-16-Pro-Max-256-GB-Smartphone/489845.html?iref=rss-c142\n",
      "\n",
      "Title: Refurb Unlocked Apple iPhone 15 128GB Smartphone for $415 + free shipping\n",
      "Details: It's the best price we've ever seen for this 128GB iPhone 15 and $43 cheaper than Amazon's best price. A 1-year Allstate warranty applies. Buy Now at eBay\n",
      "Features: \n",
      "URL: https://www.dealnews.com/products/Apple/Unlocked-Apple-iPhone-15-128-GB-Smartphone/482155.html?iref=rss-c142\n",
      "\n",
      "Title: Refurb Unlocked Samsung Galaxy S22 128GB Smartphone for $145 + free shipping\n",
      "Details: It's the best price we've even seen for an unlocked Samsung Galaxy S22. You'd pay $35 more for a refurb today at Amazon. A 1-year Allstate warranty applies.  Buy Now at eBay\n",
      "Features: Qualcomm SM8450 Snapdragon 8 Gen 1 8-core CPU 6.8\" WQHD+ edge screen display 8GB RAM, 128GB storage 108MP rear camera, 40MP front camera Android 12 Model: SM-S901UZWAXAA\n",
      "URL: https://www.dealnews.com/products/Samsung/Unlocked-Samsung-Galaxy-S22-128-GB-Android-Smartphone/303992.html?iref=rss-c142\n",
      "\n",
      "Title: Refurb Unlocked Apple iPhone 14 128GB Smartpho\n"
     ]
    }
   ],
   "source": [
    "print(user_prompt[:2000])"
   ]
  },
  {
   "cell_type": "code",
   "execution_count": 12,
   "id": "7de46f74-868c-4127-8a68-cf2da7d600bb",
   "metadata": {},
   "outputs": [],
   "source": [
    "def get_recommendations():\n",
    "    completion = openai.beta.chat.completions.parse(\n",
    "        model=\"gpt-4o-mini\",\n",
    "        messages=[\n",
    "            {\"role\": \"system\", \"content\": system_prompt},\n",
    "            {\"role\": \"user\", \"content\": user_prompt}\n",
    "      ],\n",
    "        response_format=DealSelection\n",
    "    )\n",
    "    result = completion.choices[0].message.parsed\n",
    "    return result"
   ]
  },
  {
   "cell_type": "code",
   "execution_count": 13,
   "id": "4c06270d-8c17-4d5a-9cfe-b6cefe788d5e",
   "metadata": {},
   "outputs": [],
   "source": [
    "result = get_recommendations()"
   ]
  },
  {
   "cell_type": "code",
   "execution_count": 14,
   "id": "84e62845-3338-441a-8161-c70097af4773",
   "metadata": {},
   "outputs": [
    {
     "data": {
      "text/plain": [
       "5"
      ]
     },
     "execution_count": 14,
     "metadata": {},
     "output_type": "execute_result"
    }
   ],
   "source": [
    "len(result.deals)"
   ]
  },
  {
   "cell_type": "code",
   "execution_count": 15,
   "id": "e5554a0a-ae40-4684-ad3e-faa3d22e030c",
   "metadata": {},
   "outputs": [
    {
     "data": {
      "text/plain": [
       "Deal(product_description=\"The Unlocked Apple iPhone 15 offers a sleek design with a powerful A15 Bionic chip for exceptional performance. With 128GB of storage, this smartphone balances performance and capacity, making it suitable for everyday use. This refurbished model is backed by a 1-year warranty, assuring buyers of its quality and reliability. It's a great choice for anyone looking to upgrade their mobile device.\", price=415.0, url='https://www.dealnews.com/products/Apple/Unlocked-Apple-iPhone-15-128-GB-Smartphone/482155.html?iref=rss-c142')"
      ]
     },
     "execution_count": 15,
     "metadata": {},
     "output_type": "execute_result"
    }
   ],
   "source": [
    "result.deals[1]"
   ]
  },
  {
   "cell_type": "code",
   "execution_count": 16,
   "id": "8bdc57fb-7497-47af-a643-6ba5a21cc17e",
   "metadata": {},
   "outputs": [],
   "source": [
    "from agents.scanner_agent import ScannerAgent"
   ]
  },
  {
   "cell_type": "code",
   "execution_count": 17,
   "id": "132278bc-217a-43a6-b6c4-724140c6a225",
   "metadata": {},
   "outputs": [],
   "source": [
    "agent = ScannerAgent()\n",
    "result = agent.scan()"
   ]
  },
  {
   "cell_type": "code",
   "execution_count": 18,
   "id": "2e1d013a-c930-4dad-901b-41433379e14b",
   "metadata": {},
   "outputs": [
    {
     "data": {
      "text/plain": [
       "DealSelection(deals=[Deal(product_description=\"The Refurbished Unlocked Apple iPhone 16 Pro Max features a spacious 256GB storage capacity, making it ideal for anyone who needs ample space for apps, photos, and videos. This smartphone boasts an 'Excellent' condition rating, ensuring a premium feel and functionality. The device includes a 1-year Allstate warranty, providing peace of mind. With its stunning display and powerful performance, this iPhone is a standout choice for tech enthusiasts.\", price=890.0, url='https://www.dealnews.com/products/Apple/Unlocked-Apple-iPhone-16-Pro-Max-256-GB-Smartphone/489845.html?iref=rss-c142'), Deal(product_description='Experience the advanced technology of the Refurbished Unlocked Apple iPhone 15, featuring 128GB of internal storage. This smartphone has been well-reviewed for its sleek design and excellent camera capabilities. It comes with a 1-year Allstate warranty, ensuring reliability and support. Ideal for users looking for a top-tier phone without the brand-new price tag, this iPhone combines style, functionality, and value.', price=415.0, url='https://www.dealnews.com/products/Apple/Unlocked-Apple-iPhone-15-128-GB-Smartphone/482155.html?iref=rss-c142'), Deal(product_description='The Refurbished Unlocked Samsung Galaxy S22 is a top-tier Android smartphone packed with features. It includes 128GB of storage and is powered by a Qualcomm SM8450 Snapdragon 8 Gen 1 processor. The device sports a stunning 6.8” WQHD+ edge display, providing vibrant visuals for media consumption. Furthermore, it features a sophisticated camera system with a 108MP rear camera and a 40MP front camera, making it perfect for aspiring photographers.', price=145.0, url='https://www.dealnews.com/products/Samsung/Unlocked-Samsung-Galaxy-S22-128-GB-Android-Smartphone/303992.html?iref=rss-c142'), Deal(product_description=\"This Refurbished Unlocked Google Pixel Fold is a 256GB Android smartphone that represents the best deal currently available for its model. With the power of the Google Tensor G2 chipset, it is designed for efficiency and speed. It supports split-screen multitasking and is compatible with most major carriers. The device's IPX8 water resistance adds durability, while the included 1-year Allstate warranty gives users assurance of quality.\", price=415.0, url='https://www.dealnews.com/products/Google/Unlocked-Google-Pixel-Fold-256-GB-Android-Smartphone/467718.html?iref=rss-c142'), Deal(product_description='The ASUS TUF Gaming A16 features a powerful AMD Ryzen 7 7445HS processor and NVIDIA GeForce RTX 4050 graphics card, making it a superb choice for gamers. The laptop sports a 16” FHD+ display with a 144Hz refresh rate, ensuring smooth visuals during gameplay. Coupled with 16GB of RAM and a 512GB SSD, it provides both speed and ample storage for games and applications. This model embodies the ideal blend of performance and functionality for serious gamers.', price=599.0, url='https://www.dealnews.com/products/ASUS/ASUS-TUF-Gaming-A16-Ryzen-7-16-Laptop-w-NVIDIA-Ge-Force-RTX-4050/494579.html?iref=rss-c39')])"
      ]
     },
     "execution_count": 18,
     "metadata": {},
     "output_type": "execute_result"
    }
   ],
   "source": [
    "result"
   ]
  },
  {
   "cell_type": "code",
   "execution_count": null,
   "id": "5ee2e837-1f1d-42d4-8bc4-51cccc343006",
   "metadata": {},
   "outputs": [],
   "source": []
  }
 ],
 "metadata": {
  "kernelspec": {
   "display_name": "llms",
   "language": "python",
   "name": "python3"
  },
  "language_info": {
   "codemirror_mode": {
    "name": "ipython",
    "version": 3
   },
   "file_extension": ".py",
   "mimetype": "text/x-python",
   "name": "python",
   "nbconvert_exporter": "python",
   "pygments_lexer": "ipython3",
   "version": "3.11.11"
  }
 },
 "nbformat": 4,
 "nbformat_minor": 5
}
